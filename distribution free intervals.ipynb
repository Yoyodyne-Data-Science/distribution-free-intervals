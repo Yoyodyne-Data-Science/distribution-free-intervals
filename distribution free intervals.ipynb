{
 "cells": [
  {
   "cell_type": "markdown",
   "metadata": {},
   "source": [
    "## Distribution-free Tolerance Intervals"
   ]
  },
  {
   "cell_type": "markdown",
   "metadata": {},
   "source": [
    "Import libraries"
   ]
  },
  {
   "cell_type": "code",
   "execution_count": 1,
   "metadata": {},
   "outputs": [],
   "source": [
    "import pandas as pd\n",
    "import numpy as np\n",
    "import matplotlib.pyplot as plt\n",
    "import scipy.stats as st\n",
    "import scipy.optimize as opt"
   ]
  },
  {
   "cell_type": "markdown",
   "metadata": {},
   "source": [
    "Definitions and Datasets"
   ]
  },
  {
   "cell_type": "code",
   "execution_count": 2,
   "metadata": {},
   "outputs": [],
   "source": [
    "nice_purple = [95/256, 75/256, 139/256]"
   ]
  },
  {
   "cell_type": "code",
   "execution_count": 3,
   "metadata": {},
   "outputs": [],
   "source": [
    "## measurements of concentration from Example 5.1 in 'Statistical Intervals A Guide for Practitioners and Researchers' \n",
    "## by William Q. Meeker, Gerald J. Hahn, Luis A. Escobar (page 76)\n",
    "\n",
    "concentration_test_data=[1.49,1.66,2.05,2.24,2.29,2.69,2.77,2.77,3.10,3.23,\\\n",
    "3.28,3.29,3.31,3.36,3.84,4.04,4.09,4.13,4.14,4.16,\\\n",
    "4.57,4.63,4.83,5.06,5.17,5.19,5.89,5.97,6.28,6.38,\\\n",
    "6.51,6.53,6.54,6.55,6.83,7.08,7.28,7.53,7.54,7.68,\\\n",
    "7.81,7.87,7.94,8.43,8.70,8.97,8.98,9.13,9.14,9.22,\\\n",
    "9.24,9.30,9.44,9.69,9.86,9.99,11.28,11.37,12.03,12.32,\\\n",
    "12.93,13.03,13.09,13.43,13.58,13.70,14.17,14.36,14.96,15.89,\\\n",
    "16.57,16.60,16.85,17.18,17.46,17.74,18.40,18.78,19.84,20.45,\\\n",
    "20.89,22.28,22.48,23.66,24.33,24.72,25.46,25.67,25.77,26.64,\\\n",
    "28.28,28.28,29.07,29.16,31.14,31.83,33.24,37.32,53.43,58.11]\n",
    "\n",
    "# let's shuffle it to make it look like it's come from measurements (because we don't know the actual ordering, only the \n",
    "# order statistics are shown)\n",
    "np.random.shuffle(concentration_test_data)\n",
    "\n",
    "## ratings of coffee and coconuts on tripadvisor 589 ratings\n",
    "candc_ratings = np.concatenate([np.repeat(5, 310),np.repeat(4, 170),np.repeat(3, 65),np.repeat(2, 24),np.repeat(1, 20)])\n",
    "# shuffle them to simulate the reviews coming in in real time\n",
    "np.random.shuffle(candc_ratings)\n",
    "\n",
    "## ratings of oeuf on tripadvisor 14 ratings\n",
    "oeuf_ratings = np.concatenate([np.repeat(5, 11),np.repeat(1, 3)])\n",
    "# shuffle them to simulate the reviews coming in in real time\n",
    "np.random.shuffle(oeuf_ratings)\n",
    "\n",
    "## ratings of little collins on tripadvisor 318 ratings\n",
    "lilcol_ratings = np.concatenate([np.repeat(5, 210),np.repeat(4, 67),np.repeat(3, 19),np.repeat(2, 11),np.repeat(1, 11)])\n",
    "# shuffle them to simulate the reviews coming in in real time\n",
    "np.random.shuffle(lilcol_ratings)\n",
    " "
   ]
  },
  {
   "cell_type": "markdown",
   "metadata": {},
   "source": [
    "Functions"
   ]
  },
  {
   "cell_type": "code",
   "execution_count": 4,
   "metadata": {},
   "outputs": [],
   "source": [
    "def weib(x,lmbd,k):\n",
    "    \"\"\" Calculate Weibull pdf for two parameters lambda (lmbd) and k\n",
    "    \"\"\"\n",
    "    return (k / lmbd) * (x / lmbd)**(k - 1) * np.exp(-(x / lmbd)**k)\n",
    "\n",
    "def one_side_upper_conf_bound(p, X, oneminalpha):\n",
    "    \"\"\" Calculate an interpolated upper confidence bound for the quantile p in sample X\n",
    "        with upper confidence bound oneminalpha as per page 81 in 'Statistical Intervals A Guide \n",
    "        for Practitioners and Researchers' by William Q. Meeker, Gerald J. Hahn, Luis A. Escobar\n",
    "    \"\"\"\n",
    "    \n",
    "    # sort samples\n",
    "    X = np.sort(X)\n",
    "\n",
    "    # count number of samples\n",
    "    n = len(X)\n",
    "\n",
    "    u_c = np.int(st.binom.ppf(oneminalpha, n, p)+1)\n",
    "    # now need to find the next order statistic < X[u_c-1]\n",
    "    # concat [0] means that we pick the first entry if there is no value of X < X[u_c-1]\n",
    "    u_n = np.concatenate([[0],np.arange(1,len(X)+1)[X<X[u_c-1]]])[-1]\n",
    "    \n",
    "    #print('X[u_c] = {}, X[u_n] = {}'.format(X[u_c], X[u_n]))\n",
    "    if X[u_c-1] == X[u_n-1]:\n",
    "        print('Upper conf bound interpolation not possible')\n",
    "        omega = 1\n",
    "    else:\n",
    "        omega = (oneminalpha - st.binom.cdf(u_n-1, n, p))/(st.binom.cdf(u_c-1, n, p) - st.binom.cdf(u_n-1, n, p))\n",
    "    \n",
    "    return omega*X[u_c-1] + (1 - omega)*X[u_n-1]\n",
    "\n",
    "def one_side_lower_conf_bound(p, X, oneminalpha):\n",
    "    \"\"\" Calculate an interpolated lower confidence bound for the quantile p in sample X\n",
    "        with lower confidence bound oneminalpha as per page 82 in 'Statistical Intervals A Guide \n",
    "        for Practitioners and Researchers' by William Q. Meeker, Gerald J. Hahn, Luis A. Escobar\n",
    "    \"\"\"\n",
    "    \n",
    "    # sort samples\n",
    "    X = np.sort(X)\n",
    "\n",
    "    # count number of samples\n",
    "    n = len(X)\n",
    "\n",
    "    l_c = n - np.int(st.binom.ppf(oneminalpha, n, 1-p))\n",
    "    # now need to find the next order statistic > X[l_c-1]\n",
    "    # concat [len(X)-1] means that we pick the last entry if there is no value of X > X[l_c]\n",
    "    l_n = np.concatenate([np.arange(1,len(X)+1)[X>X[l_c-1]],[len(X)-1]])[0]\n",
    "\n",
    "    #print('X[l_c] = {}, X[l_n] = {}'.format(X[l_c], X[l_n]))\n",
    "    if X[l_c-1] == X[l_n-1]:\n",
    "        print('Lower conf bound interpolation not possible')\n",
    "        omega = 1\n",
    "    else:\n",
    "        omega = (oneminalpha - (1-st.binom.cdf(l_n-1, n, p)))/((1-st.binom.cdf(l_c-1, n, p)) - (1-st.binom.cdf(l_n-1, n, p)))\n",
    "    \n",
    "    return omega*X[l_c-1] + (1 - omega)*X[l_n-1]\n",
    "\n",
    "def two_sided_conf_bound(p, X, oneminalpha):\n",
    "    \"\"\" Calculate an interpolated two-sided confidence bound for the quantile p in sample X\n",
    "        with confidence interval oneminalpha as per page 82 in 'Statistical Intervals A Guide \n",
    "        for Practitioners and Researchers' by William Q. Meeker, Gerald J. Hahn, Luis A. Escobar\n",
    "    \"\"\"\n",
    "    \n",
    "    # calculate 100(1 − α/2)% upper conf bound\n",
    "    upper_bound = one_side_upper_conf_bound(p, X, 1-(1-oneminalpha)/2)\n",
    "    \n",
    "    # calculate 100(1 + α/2)% lower conf bound\n",
    "    lower_bound = one_side_lower_conf_bound(p, X, 1-(1-oneminalpha)/2)\n",
    "    \n",
    "    return [lower_bound, upper_bound]\n",
    "\n",
    "def two_sided_tol_intrvls(beta, X, oneminalpha):\n",
    "    \"\"\" Calculate tolerance intervals for containing a fraction of the population\n",
    "        beta given sample X from that population, with confidence oneminalpha as \n",
    "        per page 86 in 'Statistical Intervals A Guide for Practitioners and \n",
    "        Researchers' by William Q. Meeker, Gerald J. Hahn, Luis A. Escobar\n",
    "    \"\"\"\n",
    "    \n",
    "    # sort samples\n",
    "    X = np.sort(X)\n",
    "\n",
    "    # count number of samples\n",
    "    n = len(X)\n",
    "    \n",
    "    nu = n - np.int(st.binom.ppf(oneminalpha, n, beta))\n",
    "    \n",
    "    if nu < 2:\n",
    "        print(\"\"\"No two-sided distribution-free tolerance interval containing \n",
    "at least a proportion β with coverage probability greater than \n",
    "or equal to 1 − α possible.\"\"\")\n",
    "        return [0,0]\n",
    "    \n",
    "    if nu%2:\n",
    "        # nu is odd\n",
    "        nu_1 = nu/2 - 0.5\n",
    "        nu_2 = nu_1 + 1\n",
    "    else:\n",
    "        # nu is even\n",
    "        nu_1 = nu/2\n",
    "        nu_2 = nu/2\n",
    "    \n",
    "    nu_1 = int(nu_1)\n",
    "    nu_2 = int(nu_2)\n",
    "    \n",
    "    l = nu_1\n",
    "    u = n - nu_2 +1\n",
    "    \n",
    "    print('Confidence bound = {:.3f} (desired = {})'.format(st.binom.cdf(u-l-1, n, beta),oneminalpha))\n",
    "    tol_bounds = [X[l-1], X[u-1]]\n",
    "    \n",
    "    return tol_bounds\n",
    "\n",
    "def two_sided_interp_tol_intrvls(beta, X, oneminalpha):\n",
    "    \"\"\" Calculate interpolated tolerance intervals for containing a fraction of the population\n",
    "        beta given sample X from that population, with confidence oneminalpha as \n",
    "        per page 87 in 'Statistical Intervals A Guide for Practitioners and \n",
    "        Researchers' by William Q. Meeker, Gerald J. Hahn, Luis A. Escobar\n",
    "    \"\"\"\n",
    "    \n",
    "    # sort samples\n",
    "    X = np.sort(X)\n",
    "\n",
    "    # count number of samples\n",
    "    n = len(X)\n",
    "    \n",
    "    nu = n - np.int(st.binom.ppf(oneminalpha, n, beta))\n",
    "    \n",
    "    if nu < 2:\n",
    "        print(\"\"\"No two-sided distribution-free tolerance interval containing \n",
    "at least a proportion β with coverage probability greater than \n",
    "or equal to 1 − α possible.\"\"\")\n",
    "        return [0,0]\n",
    "    \n",
    "    if nu%2:\n",
    "        # nu is odd\n",
    "        nu = nu -1\n",
    "        \n",
    "    l_c = int(nu/2)\n",
    "    l_n = l_c + 1\n",
    "    u_c = int(n - l_c + 1)\n",
    "    u_n = int(n - l_n + 1)\n",
    "    \n",
    "    omega = (oneminalpha - st.binom.cdf(u_n-l_n-1, n, beta))/(st.binom.cdf(u_c-l_c-1, n, beta) - st.binom.cdf(u_n-l_n-1, n, beta))\n",
    "    \n",
    "    tol_bounds = [omega*X[l_c-1] + (1-omega)*X[l_n-1], omega*X[u_c-1] + (1-omega)*X[u_n-1]]\n",
    "    \n",
    "    return tol_bounds\n",
    "\n",
    "def cond_on_n(n, beta, oneminalpha):\n",
    "    \"\"\" Condition to be minimized for smallest n required for meaningful TI\n",
    "        to be calculated, from page 89 in 'Statistical Intervals A Guide for Practitioners and \n",
    "        Researchers' by William Q. Meeker, Gerald J. Hahn, Luis A. Escobar\n",
    "    \"\"\"\n",
    "    \n",
    "    return (oneminalpha - (1-n*beta**(n-1) + (n-1)*beta**n))**2\n",
    "\n",
    "def calc_min_n(beta, oneminalpha):\n",
    "    \"\"\" Calculate the smallest n required to give meaningful interval for given beta and one minus alpha\n",
    "    \"\"\"\n",
    "    \n",
    "    res = opt.minimize_scalar(cond_on_n, args = (beta, oneminalpha))\n",
    "    \n",
    "    return np.ceil(res.x)"
   ]
  },
  {
   "cell_type": "markdown",
   "metadata": {},
   "source": [
    "### Erlang distirbution"
   ]
  },
  {
   "cell_type": "code",
   "execution_count": 38,
   "metadata": {},
   "outputs": [],
   "source": [
    "k = 2\n",
    "lmbd = 7\n",
    "\n",
    "n_samples = 5000"
   ]
  },
  {
   "cell_type": "code",
   "execution_count": 39,
   "metadata": {},
   "outputs": [
    {
     "data": {
      "image/png": "[encoded data removed]",
      "text/plain": [
       "<Figure size 720x576 with 1 Axes>"
      ]
     },
     "metadata": {
      "needs_background": "light"
     },
     "output_type": "display_data"
    }
   ],
   "source": [
    "xmax = 60\n",
    "binstep = 2\n",
    "erlang_samp = st.erlang.rvs(size = n_samples , a= k, scale = lmbd)\n",
    "x = np.arange(0, xmax, 0.001)\n",
    "y = st.erlang.pdf(x, a= k, scale = lmbd)\n",
    "fig, ax = plt.subplots(figsize = [10,8])\n",
    "ax.hist(erlang_samp, density = 1, bins = np.arange(0,xmax+binstep, binstep), color = nice_purple)\n",
    "ax.plot(x,y, color = [0.8, 0.8, 0.8])\n",
    "plt.show()"
   ]
  },
  {
   "cell_type": "code",
   "execution_count": 40,
   "metadata": {},
   "outputs": [
    {
     "data": {
      "text/plain": [
       "11.748428930116628"
      ]
     },
     "execution_count": 40,
     "metadata": {},
     "output_type": "execute_result"
    }
   ],
   "source": [
    "st.erlang.ppf(0.5, a= k, scale = lmbd)"
   ]
  },
  {
   "cell_type": "code",
   "execution_count": 36,
   "metadata": {},
   "outputs": [
    {
     "data": {
      "text/plain": [
       "11.370535574373745"
      ]
     },
     "execution_count": 36,
     "metadata": {},
     "output_type": "execute_result"
    }
   ],
   "source": [
    "np.std(erlang_samp)"
   ]
  },
  {
   "cell_type": "code",
   "execution_count": 37,
   "metadata": {},
   "outputs": [
    {
     "data": {
      "text/plain": [
       "15.962847702698518"
      ]
     },
     "execution_count": 37,
     "metadata": {},
     "output_type": "execute_result"
    }
   ],
   "source": [
    "np.mean(erlang_samp)"
   ]
  },
  {
   "cell_type": "code",
   "execution_count": 11,
   "metadata": {},
   "outputs": [
    {
     "data": {
      "text/plain": [
       "[5.0, 24.0]"
      ]
     },
     "execution_count": 11,
     "metadata": {},
     "output_type": "execute_result"
    }
   ],
   "source": [
    "two_sided_interp_tol_intrvls(0.68, erlang_samp, 0.95)"
   ]
  },
  {
   "cell_type": "code",
   "execution_count": 12,
   "metadata": {},
   "outputs": [
    {
     "data": {
      "text/plain": [
       "5.0"
      ]
     },
     "execution_count": 12,
     "metadata": {},
     "output_type": "execute_result"
    }
   ],
   "source": [
    "np.quantile(erlang_samp, 0.16)"
   ]
  },
  {
   "cell_type": "code",
   "execution_count": 13,
   "metadata": {},
   "outputs": [
    {
     "data": {
      "text/plain": [
       "23.0"
      ]
     },
     "execution_count": 13,
     "metadata": {},
     "output_type": "execute_result"
    }
   ],
   "source": [
    "np.quantile(erlang_samp, 0.84)"
   ]
  },
  {
   "cell_type": "code",
   "execution_count": 14,
   "metadata": {},
   "outputs": [
    {
     "data": {
      "image/png": "[encoded data removed]",
      "text/plain": [
       "<Figure size 720x576 with 1 Axes>"
      ]
     },
     "metadata": {
      "needs_background": "light"
     },
     "output_type": "display_data"
    }
   ],
   "source": [
    "# make scatter plot (n.b. this won't look exactly lke in the book!)\n",
    "fig, ax = plt.subplots(figsize = [10,8])\n",
    "ax.plot(concentration_test_data,'o-', color = nice_purple)\n",
    "ax.set_xlabel('Batch number')\n",
    "ax.set_ylabel('Concentration (ppm)')\n",
    "plt.show()"
   ]
  },
  {
   "cell_type": "code",
   "execution_count": 15,
   "metadata": {},
   "outputs": [
    {
     "data": {
      "image/png": "[encoded data removed]",
      "text/plain": [
       "<Figure size 720x576 with 1 Axes>"
      ]
     },
     "metadata": {
      "needs_background": "light"
     },
     "output_type": "display_data"
    }
   ],
   "source": [
    "# make histogram\n",
    "fig, ax = plt.subplots(figsize = [10,8])\n",
    "ax.hist(concentration_test_data, color = nice_purple, bins = np.arange(0,70,10))\n",
    "ax.set_xlabel('Amount of compound in ppm')\n",
    "ax.set_ylabel('Frequency')\n",
    "plt.show()"
   ]
  },
  {
   "cell_type": "code",
   "execution_count": 16,
   "metadata": {},
   "outputs": [
    {
     "data": {
      "text/plain": [
       "31.294375537733927"
      ]
     },
     "execution_count": 16,
     "metadata": {},
     "output_type": "execute_result"
    }
   ],
   "source": [
    "# Example 5.2\n",
    "one_side_upper_conf_bound(0.9, concentration_test_data, 0.95)"
   ]
  },
  {
   "cell_type": "code",
   "execution_count": 17,
   "metadata": {},
   "outputs": [
    {
     "data": {
      "text/plain": [
       "3.9781351364219306"
      ]
     },
     "execution_count": 17,
     "metadata": {},
     "output_type": "execute_result"
    }
   ],
   "source": [
    "# Example 5.3\n",
    "one_side_upper_conf_bound(0.1, concentration_test_data, 0.95)"
   ]
  },
  {
   "cell_type": "code",
   "execution_count": 18,
   "metadata": {},
   "outputs": [
    {
     "data": {
      "text/plain": [
       "2.6005069346469982"
      ]
     },
     "execution_count": 18,
     "metadata": {},
     "output_type": "execute_result"
    }
   ],
   "source": [
    "# Example 5.4\n",
    "one_side_lower_conf_bound(0.1, concentration_test_data, 0.95)"
   ]
  },
  {
   "cell_type": "code",
   "execution_count": 19,
   "metadata": {},
   "outputs": [
    {
     "data": {
      "text/plain": [
       "24.450636483977235"
      ]
     },
     "execution_count": 19,
     "metadata": {},
     "output_type": "execute_result"
    }
   ],
   "source": [
    "# Example 5.5\n",
    "one_side_lower_conf_bound(0.9, concentration_test_data, 0.95)"
   ]
  },
  {
   "cell_type": "code",
   "execution_count": 20,
   "metadata": {},
   "outputs": [
    {
     "data": {
      "text/plain": [
       "[7.768712542438091, 12.513733454713574]"
      ]
     },
     "execution_count": 20,
     "metadata": {},
     "output_type": "execute_result"
    }
   ],
   "source": [
    "# Example 5.6\n",
    "two_sided_conf_bound(0.5, concentration_test_data, 0.95)"
   ]
  },
  {
   "cell_type": "code",
   "execution_count": 21,
   "metadata": {},
   "outputs": [
    {
     "name": "stdout",
     "output_type": "stream",
     "text": [
      "[2.6005069346469982, 3.9781351364219306]\n",
      "[2.305223820975737, 4.078593058195633]\n"
     ]
    }
   ],
   "source": [
    "# Example 5.7\n",
    "print(two_sided_conf_bound(0.1, concentration_test_data, 0.9))\n",
    "print(two_sided_conf_bound(0.1, concentration_test_data, 0.95))"
   ]
  },
  {
   "cell_type": "code",
   "execution_count": 22,
   "metadata": {},
   "outputs": [
    {
     "name": "stdout",
     "output_type": "stream",
     "text": [
      "[24.450636483977235, 31.294375537733927]\n",
      "[23.812853020178512, 31.803738908816854]\n"
     ]
    }
   ],
   "source": [
    "# Example 5.8\n",
    "print(two_sided_conf_bound(0.9, concentration_test_data, 0.9))\n",
    "print(two_sided_conf_bound(0.9, concentration_test_data, 0.95))"
   ]
  },
  {
   "cell_type": "code",
   "execution_count": 23,
   "metadata": {},
   "outputs": [
    {
     "name": "stdout",
     "output_type": "stream",
     "text": [
      "Confidence bound = 0.976 (desired = 0.95)\n"
     ]
    },
    {
     "data": {
      "text/plain": [
       "[1.66, 37.32]"
      ]
     },
     "execution_count": 23,
     "metadata": {},
     "output_type": "execute_result"
    }
   ],
   "source": [
    "# Example 5.9\n",
    "two_sided_tol_intrvls(0.9, concentration_test_data, 0.95)"
   ]
  },
  {
   "cell_type": "code",
   "execution_count": 24,
   "metadata": {},
   "outputs": [
    {
     "data": {
      "text/plain": [
       "[1.9905918374677944, 39.774014098445704]"
      ]
     },
     "execution_count": 24,
     "metadata": {},
     "output_type": "execute_result"
    }
   ],
   "source": [
    "# Example 5.10\n",
    "two_sided_interp_tol_intrvls(0.9, concentration_test_data, 0.95)"
   ]
  },
  {
   "cell_type": "code",
   "execution_count": 25,
   "metadata": {},
   "outputs": [
    {
     "data": {
      "text/plain": [
       "[4.012707236871176, 4.9987866493998006]"
      ]
     },
     "execution_count": 25,
     "metadata": {},
     "output_type": "execute_result"
    }
   ],
   "source": [
    "two_sided_conf_bound(0.5, candc_ratings,0.95)"
   ]
  },
  {
   "cell_type": "code",
   "execution_count": 26,
   "metadata": {},
   "outputs": [
    {
     "data": {
      "text/plain": [
       "[4.33626373626374, 4.924907247093742]"
      ]
     },
     "execution_count": 26,
     "metadata": {},
     "output_type": "execute_result"
    }
   ],
   "source": [
    "two_sided_conf_bound(0.5, oeuf_ratings,0.95)"
   ]
  },
  {
   "cell_type": "code",
   "execution_count": 27,
   "metadata": {},
   "outputs": [
    {
     "name": "stdout",
     "output_type": "stream",
     "text": [
      "Lower conf bound interpolation not possible\n"
     ]
    },
    {
     "data": {
      "text/plain": [
       "[5, 4.999748715561946]"
      ]
     },
     "execution_count": 27,
     "metadata": {},
     "output_type": "execute_result"
    }
   ],
   "source": [
    "two_sided_conf_bound(0.5, lilcol_ratings,0.95)"
   ]
  }
 ],
 "metadata": {
  "kernelspec": {
   "display_name": "Python 3",
   "language": "python",
   "name": "python3"
  },
  "language_info": {
   "codemirror_mode": {
    "name": "ipython",
    "version": 3
   },
   "file_extension": ".py",
   "mimetype": "text/x-python",
   "name": "python",
   "nbconvert_exporter": "python",
   "pygments_lexer": "ipython3",
   "version": "3.7.3"
  }
 },
 "nbformat": 4,
 "nbformat_minor": 2
}
